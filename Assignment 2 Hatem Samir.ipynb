{
 "cells": [
  {
   "cell_type": "markdown",
   "metadata": {
    "collapsed": true
   },
   "source": [
    "# Assignment 2\n",
    "Let's test your knowledge!"
   ]
  },
  {
   "cell_type": "markdown",
   "metadata": {},
   "source": [
    "_____\n",
    "**Use <code>for</code>, .split(), and <code>if</code> to create a Statement that will print out words that start with 's':**"
   ]
  },
  {
   "cell_type": "code",
   "execution_count": 1,
   "metadata": {},
   "outputs": [],
   "source": [
    "st = 'Print only the words that start with s in this sentence'"
   ]
  },
  {
   "cell_type": "code",
   "execution_count": 2,
   "metadata": {},
   "outputs": [
    {
     "name": "stdout",
     "output_type": "stream",
     "text": [
      "['start', 's', 'sentence']\n"
     ]
    }
   ],
   "source": [
    "#Code here\n",
    "x=st.split(\" \")\n",
    "res=[]\n",
    "for y in x:\n",
    "    if y[0] == \"s\":\n",
    "        res.append(y)\n",
    "print(res)"
   ]
  },
  {
   "cell_type": "markdown",
   "metadata": {},
   "source": [
    "______\n",
    "**Use range() to print all the even numbers from 0 to 10.**"
   ]
  },
  {
   "cell_type": "code",
   "execution_count": 3,
   "metadata": {},
   "outputs": [
    {
     "name": "stdout",
     "output_type": "stream",
     "text": [
      "0\n",
      "2\n",
      "4\n",
      "6\n",
      "8\n",
      "10\n"
     ]
    }
   ],
   "source": [
    "for x in range(11):\n",
    "    if x%2 == 0:\n",
    "        print(x)"
   ]
  },
  {
   "cell_type": "markdown",
   "metadata": {},
   "source": [
    "___\n",
    "**Use a List Comprehension to create a list of all numbers between 1 and 50 that are divisible by 3.**"
   ]
  },
  {
   "cell_type": "code",
   "execution_count": 4,
   "metadata": {},
   "outputs": [
    {
     "name": "stdout",
     "output_type": "stream",
     "text": [
      "[0, 3, 6, 9, 12, 15, 18, 21, 24, 27, 30, 33, 36, 39, 42, 45, 48]\n"
     ]
    }
   ],
   "source": [
    "#Code Here\n",
    "res3=[]\n",
    "for x in range(51):\n",
    "    if x%3 == 0:\n",
    "        res3.append(x)\n",
    "print(res3)"
   ]
  },
  {
   "cell_type": "markdown",
   "metadata": {},
   "source": [
    "_____\n",
    "**Go through the string below and if the length of a word is even print \"even!\"**"
   ]
  },
  {
   "cell_type": "code",
   "execution_count": 5,
   "metadata": {},
   "outputs": [],
   "source": [
    "st = 'Print every word in this sentence that has an even number of letters'"
   ]
  },
  {
   "cell_type": "code",
   "execution_count": 6,
   "metadata": {},
   "outputs": [
    {
     "name": "stdout",
     "output_type": "stream",
     "text": [
      "'word'  is even\n",
      "'in'  is even\n",
      "'this'  is even\n",
      "'sentence'  is even\n",
      "'that'  is even\n",
      "'an'  is even\n",
      "'even'  is even\n",
      "'number'  is even\n",
      "'of'  is even\n"
     ]
    }
   ],
   "source": [
    "#Code in this cell\n",
    "nst=st.split(\" \")\n",
    "for x in nst:\n",
    "    if len(x)%2 == 0:\n",
    "        print(f\"'{x}'\",\" is even\")"
   ]
  },
  {
   "cell_type": "markdown",
   "metadata": {},
   "source": [
    "____\n",
    "**Write a program that prints the integers from 1 to 100. But for multiples of three print \"Fizz\" instead of the number, and for the multiples of five print \"Buzz\". For numbers which are multiples of both three and five print \"FizzBuzz\".**"
   ]
  },
  {
   "cell_type": "code",
   "execution_count": 7,
   "metadata": {},
   "outputs": [
    {
     "name": "stdout",
     "output_type": "stream",
     "text": [
      "FizzBuzz\n",
      "1\n",
      "\n",
      "2\n",
      "\n",
      "Fizz\n",
      "4\n",
      "\n",
      "Buzz\n",
      "Fizz\n",
      "7\n",
      "\n",
      "8\n",
      "\n",
      "Fizz\n",
      "Buzz\n",
      "11\n",
      "\n",
      "Fizz\n",
      "13\n",
      "\n",
      "14\n",
      "\n",
      "FizzBuzz\n",
      "16\n",
      "\n",
      "17\n",
      "\n",
      "Fizz\n",
      "19\n",
      "\n",
      "Buzz\n",
      "Fizz\n",
      "22\n",
      "\n",
      "23\n",
      "\n",
      "Fizz\n",
      "Buzz\n",
      "26\n",
      "\n",
      "Fizz\n",
      "28\n",
      "\n",
      "29\n",
      "\n",
      "FizzBuzz\n",
      "31\n",
      "\n",
      "32\n",
      "\n",
      "Fizz\n",
      "34\n",
      "\n",
      "Buzz\n",
      "Fizz\n",
      "37\n",
      "\n",
      "38\n",
      "\n",
      "Fizz\n",
      "Buzz\n",
      "41\n",
      "\n",
      "Fizz\n",
      "43\n",
      "\n",
      "44\n",
      "\n",
      "FizzBuzz\n",
      "46\n",
      "\n",
      "47\n",
      "\n",
      "Fizz\n",
      "49\n",
      "\n",
      "Buzz\n",
      "Fizz\n",
      "52\n",
      "\n",
      "53\n",
      "\n",
      "Fizz\n",
      "Buzz\n",
      "56\n",
      "\n",
      "Fizz\n",
      "58\n",
      "\n",
      "59\n",
      "\n",
      "FizzBuzz\n",
      "61\n",
      "\n",
      "62\n",
      "\n",
      "Fizz\n",
      "64\n",
      "\n",
      "Buzz\n",
      "Fizz\n",
      "67\n",
      "\n",
      "68\n",
      "\n",
      "Fizz\n",
      "Buzz\n",
      "71\n",
      "\n",
      "Fizz\n",
      "73\n",
      "\n",
      "74\n",
      "\n",
      "FizzBuzz\n",
      "76\n",
      "\n",
      "77\n",
      "\n",
      "Fizz\n",
      "79\n",
      "\n",
      "Buzz\n",
      "Fizz\n",
      "82\n",
      "\n",
      "83\n",
      "\n",
      "Fizz\n",
      "Buzz\n",
      "86\n",
      "\n",
      "Fizz\n",
      "88\n",
      "\n",
      "89\n",
      "\n",
      "FizzBuzz\n",
      "91\n",
      "\n",
      "92\n",
      "\n",
      "Fizz\n",
      "94\n",
      "\n",
      "Buzz\n",
      "Fizz\n",
      "97\n",
      "\n",
      "98\n",
      "\n",
      "Fizz\n",
      "Buzz\n"
     ]
    }
   ],
   "source": [
    "#Code in this cell\n",
    "for x in range(101):\n",
    "    if x%3==0:\n",
    "        print(\"Fizz\",end='')\n",
    "    if x%5==0:\n",
    "        print(\"Buzz\",end='')\n",
    "    if not(x%5==0) and not(x%3==0):\n",
    "        print(x)\n",
    "    print()"
   ]
  },
  {
   "cell_type": "markdown",
   "metadata": {},
   "source": [
    "____\n",
    "**Use List Comprehension to create a list of the first letters of every word in the string below:**"
   ]
  },
  {
   "cell_type": "code",
   "execution_count": 8,
   "metadata": {},
   "outputs": [],
   "source": [
    "st = 'Create a list of the first letters of every word in this string'"
   ]
  },
  {
   "cell_type": "code",
   "execution_count": 9,
   "metadata": {},
   "outputs": [
    {
     "name": "stdout",
     "output_type": "stream",
     "text": [
      "['C', 'a', 'l', 'o', 't', 'f', 'l', 'o', 'e', 'w', 'i', 't', 's']\n"
     ]
    }
   ],
   "source": [
    "#Code in this cel\n",
    "nst=st.split()\n",
    "res4=[]\n",
    "for x in nst:\n",
    "    res4.append(x[0])\n",
    "print(res4)"
   ]
  },
  {
   "cell_type": "markdown",
   "metadata": {},
   "source": [
    "### Great Job!"
   ]
  }
 ],
 "metadata": {
  "kernelspec": {
   "display_name": "Python 3 (ipykernel)",
   "language": "python",
   "name": "python3"
  },
  "language_info": {
   "codemirror_mode": {
    "name": "ipython",
    "version": 3
   },
   "file_extension": ".py",
   "mimetype": "text/x-python",
   "name": "python",
   "nbconvert_exporter": "python",
   "pygments_lexer": "ipython3",
   "version": "3.10.4"
  }
 },
 "nbformat": 4,
 "nbformat_minor": 1
}
